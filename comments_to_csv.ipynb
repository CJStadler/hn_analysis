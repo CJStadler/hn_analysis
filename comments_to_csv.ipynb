{
 "cells": [
  {
   "cell_type": "code",
   "execution_count": 5,
   "metadata": {
    "collapsed": false
   },
   "outputs": [
    {
     "name": "stdout",
     "output_type": "stream",
     "text": [
      "The autoreload extension is already loaded. To reload it, use:\n",
      "  %reload_ext autoreload\n"
     ]
    }
   ],
   "source": [
    "%load_ext autoreload\n",
    "\n",
    "%autoreload 2\n",
    "\n",
    "import api\n",
    "from csv_writer import write\n",
    "import sentiment"
   ]
  },
  {
   "cell_type": "code",
   "execution_count": 9,
   "metadata": {
    "collapsed": false
   },
   "outputs": [
    {
     "name": "stdout",
     "output_type": "stream",
     "text": [
      "[10953381, 10953766]\n"
     ]
    }
   ],
   "source": [
    "print(api.get_topstories())"
   ]
  },
  {
   "cell_type": "code",
   "execution_count": 10,
   "metadata": {
    "collapsed": false
   },
   "outputs": [
    {
     "name": "stdout",
     "output_type": "stream",
     "text": [
      "error with item 10954869\n",
      "[]\n"
     ]
    }
   ],
   "source": [
    "print(api.all_items(['10954869']))"
   ]
  },
  {
   "cell_type": "code",
   "execution_count": 6,
   "metadata": {
    "collapsed": false
   },
   "outputs": [
    {
     "name": "stdout",
     "output_type": "stream",
     "text": [
      "comments loaded\n",
      "88\n"
     ]
    }
   ],
   "source": [
    "comments = api.all_items(api.get_topstories()[0:2])\n",
    "print(\"comments loaded\")\n",
    "\n",
    "print(len(top_stories))"
   ]
  },
  {
   "cell_type": "code",
   "execution_count": 9,
   "metadata": {
    "collapsed": false
   },
   "outputs": [
    {
     "data": {
      "text/plain": [
       "'If a company &quot;graduates&quot; from YC Fellowship to YC Core, will YC be taking the standard YC Core equity on top of the 1.5%, or will it be some different number?'"
      ]
     },
     "execution_count": 9,
     "metadata": {},
     "output_type": "execute_result"
    }
   ],
   "source": [
    "comments[1]['text']"
   ]
  },
  {
   "cell_type": "code",
   "execution_count": 15,
   "metadata": {
    "collapsed": false
   },
   "outputs": [],
   "source": [
    "def get_sentiment(comment):\n",
    "    if 'text' in comment:\n",
    "        comment['sentiment'] = sentiment.comparative(comment['text'])\n",
    "    else:\n",
    "        comment['sentiment'] = 0\n",
    "        \n",
    "    return comment\n",
    "\n",
    "\n",
    "comments = [get_sentiment(comment) for comment in comments]"
   ]
  },
  {
   "cell_type": "code",
   "execution_count": 20,
   "metadata": {
    "collapsed": false
   },
   "outputs": [
    {
     "name": "stdout",
     "output_type": "stream",
     "text": [
      "{'parent': 10974770, 'time': 1453831784, 'sentiment': 0, 'type': 'comment', 'id': 10974818, 'deleted': True}\n",
      "{'parent': 10974770, 'time': 1453831759, 'sentiment': 0, 'type': 'comment', 'id': 10974816, 'deleted': True}\n",
      "{'kids': [10974918], 'parent': 10974852, 'time': 1453832564, 'sentiment': 0, 'type': 'comment', 'id': 10974913, 'deleted': True}\n",
      "{'parent': 10974918, 'time': 1453832901, 'sentiment': 0, 'type': 'comment', 'id': 10974949, 'deleted': True}\n",
      "{'parent': 10975176, 'time': 1453834998, 'sentiment': 0, 'type': 'comment', 'id': 10975183, 'deleted': True}\n"
     ]
    }
   ],
   "source": [
    "for c in comments:\n",
    "    if 'by' not in c:\n",
    "        print(c)"
   ]
  },
  {
   "cell_type": "code",
   "execution_count": 21,
   "metadata": {
    "collapsed": false
   },
   "outputs": [
    {
     "name": "stdout",
     "output_type": "stream",
     "text": [
      "done\n"
     ]
    }
   ],
   "source": [
    "headers = ['id', 'type', 'sentiment']\n",
    "write(comments, \"test.csv\", headers)\n",
    "print(\"done\")"
   ]
  }
 ],
 "metadata": {
  "kernelspec": {
   "display_name": "Python 3",
   "language": "python",
   "name": "python3"
  },
  "language_info": {
   "codemirror_mode": {
    "name": "ipython",
    "version": 3
   },
   "file_extension": ".py",
   "mimetype": "text/x-python",
   "name": "python",
   "nbconvert_exporter": "python",
   "pygments_lexer": "ipython3",
   "version": "3.5.1"
  }
 },
 "nbformat": 4,
 "nbformat_minor": 0
}
